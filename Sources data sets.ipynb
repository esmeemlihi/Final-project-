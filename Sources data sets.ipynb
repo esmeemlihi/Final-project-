{
 "cells": [
  {
   "cell_type": "code",
   "execution_count": null,
   "metadata": {},
   "outputs": [],
   "source": [
    "'''\n",
    "\n",
    "Data: \n",
    "\n",
    "https://site.ieee.org/pes-iss/data-sets/\n",
    "\n",
    "\n",
    "Organisaties Gemeente Utrecht Energiegebruik Energiegebruik CSV\n",
    "https://ckan.dataplatform.nl/dataset/energiegebruik/resource/30f1fec6-d9c9-4ae7-8c6e-eeb822ec54fd\n",
    "\n",
    "Disaggregated Homes\n",
    "http://blog.oliverparson.co.uk/2012/06/public-data-sets-for-nialm.html\n",
    "\n",
    "TU DELFT HOME DATA SET \n",
    "http://www.st.ewi.tudelft.nl/akshay/dred/\n",
    "\n",
    "\n",
    "\n",
    "Literature: \n",
    "\n",
    "Microgrid Group Trading Model and Solving Algorithm Based on Blockchain: \n",
    "https://www.mdpi.com/1996-1073/12/7/1292/htm\n",
    "\n",
    "Peer-to-Peer energy trading in a Microgrid\n",
    "https://www.sciencedirect.com/science/article/pii/S0306261918303398\n",
    "\n",
    "congestie problem\n",
    "https://www.bjmgerard.nl/?cat=11\n",
    "\n",
    "voordelen van gelijkspanning in de wijk\n",
    "https://www.kivi.nl/uploads/media/5909f1b75b197/dcboek-groot-gelijk.pdf\n",
    "\n",
    "sharing eceonomy enter the market?\n",
    "https://www.torbenrick.eu/blog/technology/sharing-economy-approach-enter-the-energy-market/\n",
    "\n",
    "\n",
    "'''"
   ]
  }
 ],
 "metadata": {
  "kernelspec": {
   "display_name": "Python 3",
   "language": "python",
   "name": "python3"
  },
  "language_info": {
   "codemirror_mode": {
    "name": "ipython",
    "version": 3
   },
   "file_extension": ".py",
   "mimetype": "text/x-python",
   "name": "python",
   "nbconvert_exporter": "python",
   "pygments_lexer": "ipython3",
   "version": "3.7.4"
  }
 },
 "nbformat": 4,
 "nbformat_minor": 2
}
